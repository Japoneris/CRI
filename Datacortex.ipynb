{
 "cells": [
  {
   "cell_type": "markdown",
   "metadata": {},
   "source": [
    "# Mice Protein Expression \n",
    "\n",
    "Genetic expression of proteins in the cerebral cortex, for control and Down syndrome mice.\n",
    "\n",
    "\n",
    "## Goal\n",
    "\n",
    "Predict the class of the mouse given the activity level of proteins\n",
    "\n",
    "#### Classes:\n",
    "\n",
    "- c-CS-s: control mice, stimulated to learn, injected with saline (9 mice)\n",
    "- c-CS-m: control mice, stimulated to learn, injected with memantine (10 mice)\n",
    "- c-SC-s: control mice, not stimulated to learn, injected with saline (9 mice)\n",
    "- c-SC-m: control mice, not stimulated to learn, injected with memantine (10 mice)\n",
    "\n",
    "- t-CS-s: trisomy mice, stimulated to learn, injected with saline (7 mice)\n",
    "- t-CS-m: trisomy mice, stimulated to learn, injected with memantine (9 mice)\n",
    "- t-SC-s: trisomy mice, not stimulated to learn, injected with saline (9 mice)\n",
    "- t-SC-m: trisomy mice, not stimulated to learn, injected with memantine (9 mice)\n",
    "\n",
    "\n",
    "\n",
    "[Repository](https://archive.ics.uci.edu/ml/datasets/Mice+Protein+Expression)\n"
   ]
  },
  {
   "cell_type": "code",
   "execution_count": null,
   "metadata": {},
   "outputs": [],
   "source": [
    "import pandas as pd\n",
    "import numpy as np\n",
    "import matplotlib.pylab as plt\n",
    "%matplotlib inline\n"
   ]
  },
  {
   "cell_type": "code",
   "execution_count": null,
   "metadata": {},
   "outputs": [],
   "source": [
    "fname = \"./Data_Cortex_Nuclear.xls\""
   ]
  },
  {
   "cell_type": "code",
   "execution_count": null,
   "metadata": {},
   "outputs": [],
   "source": [
    "data = pd.read_excel(fname)"
   ]
  },
  {
   "cell_type": "code",
   "execution_count": null,
   "metadata": {},
   "outputs": [],
   "source": [
    "data.head()"
   ]
  },
  {
   "cell_type": "code",
   "execution_count": null,
   "metadata": {},
   "outputs": [],
   "source": [
    "data.describe()"
   ]
  },
  {
   "cell_type": "code",
   "execution_count": null,
   "metadata": {},
   "outputs": [],
   "source": [
    "data.info()"
   ]
  },
  {
   "cell_type": "code",
   "execution_count": null,
   "metadata": {},
   "outputs": [],
   "source": [
    "fig, ax = plt.subplots(figsize=(10,10))\n",
    "plt.imshow(data.corr())"
   ]
  },
  {
   "cell_type": "markdown",
   "metadata": {},
   "source": [
    "---"
   ]
  },
  {
   "cell_type": "markdown",
   "metadata": {},
   "source": [
    "#### Separate categorical data from real valued data"
   ]
  },
  {
   "cell_type": "code",
   "execution_count": null,
   "metadata": {},
   "outputs": [],
   "source": [
    "numeric_columns     = data.describe().columns\n",
    "numeric_no_miss     = numeric_columns & data.T.dropna().T.columns\n",
    "categorical_columns = data.columns ^ numeric_columns\n",
    "categorical_columns"
   ]
  },
  {
   "cell_type": "markdown",
   "metadata": {},
   "source": [
    "#### Separate incomplete with missing values"
   ]
  },
  {
   "cell_type": "code",
   "execution_count": null,
   "metadata": {},
   "outputs": [],
   "source": [
    "index_comlete = data.dropna().index\n",
    "index_missing = data.index ^ index_comlete\n",
    "\n",
    "print(\"Total entries: {}\".format(len(data)))\n",
    "print(\"\\t - with no missing values: {}\".format(len(index_comlete)))\n",
    "print(\"\\t - with some missing values: {}\".format(len(index_missing)))\n"
   ]
  },
  {
   "cell_type": "markdown",
   "metadata": {},
   "source": [
    "#### *One-hot-encoding*: transforming categorical data to 0-1"
   ]
  },
  {
   "cell_type": "code",
   "execution_count": null,
   "metadata": {},
   "outputs": [],
   "source": [
    "labels = data[\"class\"]\n",
    "labels.head()"
   ]
  },
  {
   "cell_type": "code",
   "execution_count": null,
   "metadata": {},
   "outputs": [],
   "source": [
    "pd_Y = pd.get_dummies(data[\"class\"])\n",
    "pd_Y"
   ]
  },
  {
   "cell_type": "markdown",
   "metadata": {},
   "source": [
    "#### Get available class"
   ]
  },
  {
   "cell_type": "code",
   "execution_count": null,
   "metadata": {},
   "outputs": [],
   "source": [
    "class_set = data[\"class\"].drop_duplicates().values\n",
    "n_class = len(class_set)\n",
    "class_set"
   ]
  },
  {
   "cell_type": "markdown",
   "metadata": {},
   "source": [
    "---"
   ]
  },
  {
   "cell_type": "markdown",
   "metadata": {},
   "source": [
    "\n",
    "# kNN: k-nearest neighbor\n",
    "\n",
    "\n",
    "The idea is to find, for a given point, its nearest k-neighbors.\n",
    "\n",
    "\n",
    "![](KnnClassification.png)\n",
    "\n"
   ]
  },
  {
   "cell_type": "markdown",
   "metadata": {},
   "source": [
    "## Work on KNN"
   ]
  },
  {
   "cell_type": "code",
   "execution_count": null,
   "metadata": {},
   "outputs": [],
   "source": [
    "X       = data[numeric_columns].loc[index_comlete].values\n",
    "y       = pd_Y.loc[index_comlete].values\n",
    "y_label = labels.loc[index_comlete].values"
   ]
  },
  {
   "cell_type": "markdown",
   "metadata": {},
   "source": [
    "##### Normalize"
   ]
  },
  {
   "cell_type": "code",
   "execution_count": null,
   "metadata": {},
   "outputs": [],
   "source": [
    "X = X / X.std(axis=0)"
   ]
  },
  {
   "cell_type": "markdown",
   "metadata": {},
   "source": [
    "#### Display dimension"
   ]
  },
  {
   "cell_type": "code",
   "execution_count": null,
   "metadata": {},
   "outputs": [],
   "source": [
    "import holoviews as hv\n",
    "import holoviews.util\n",
    "hv.extension('bokeh')\n",
    "\n",
    "from bokeh.io import show\n",
    "from bokeh.plotting import figure, gridplot\n",
    "from bokeh.models import ColumnDataSource, HoverTool\n",
    "from bokeh.palettes import Viridis256"
   ]
  },
  {
   "cell_type": "markdown",
   "metadata": {},
   "source": [
    "##### Map class to color"
   ]
  },
  {
   "cell_type": "code",
   "execution_count": null,
   "metadata": {},
   "outputs": [],
   "source": [
    "colors_dic = {}\n",
    "\n",
    "for idx, c in enumerate(class_set):\n",
    "    colors_dic[c] = Viridis256[int(255*idx/n_class)]\n",
    "    \n",
    "data[\"Color\"] = data['class'].apply(lambda x: colors_dic[x])"
   ]
  },
  {
   "cell_type": "markdown",
   "metadata": {},
   "source": [
    "##### Tool for poping up information when puting cursor above point"
   ]
  },
  {
   "cell_type": "code",
   "execution_count": null,
   "metadata": {},
   "outputs": [],
   "source": [
    "hover = HoverTool(tooltips=[\n",
    "    (\"index\", \"$index\"),\n",
    "    (\"class\", \"@class\"),\n",
    "])\n",
    "\n",
    "source = ColumnDataSource(data=data[list(numeric_columns) + [\"Color\", \"class\"]])"
   ]
  },
  {
   "cell_type": "markdown",
   "metadata": {},
   "source": [
    "#### Select dimension you are interested in"
   ]
  },
  {
   "cell_type": "code",
   "execution_count": null,
   "metadata": {},
   "outputs": [],
   "source": [
    "d0, d1 = 0, 1"
   ]
  },
  {
   "cell_type": "markdown",
   "metadata": {},
   "source": [
    "#### Column name"
   ]
  },
  {
   "cell_type": "code",
   "execution_count": null,
   "metadata": {},
   "outputs": [],
   "source": [
    "col0 = numeric_columns[d0]\n",
    "col1 = numeric_columns[d1]\n",
    "print(col0, col1)"
   ]
  },
  {
   "cell_type": "markdown",
   "metadata": {},
   "source": [
    "#### Draw a figure"
   ]
  },
  {
   "cell_type": "code",
   "execution_count": null,
   "metadata": {},
   "outputs": [],
   "source": [
    "f = figure(width=800, height=800,\n",
    "          x_axis_label=col0,\n",
    "          y_axis_label=col1,\n",
    "          title=\"Visualisation of data\")\n",
    "\n",
    "f.circle(x=col0, y=col1, source=source, fill_color=\"Color\", size=15, alpha=0.6)\n",
    "\n",
    "f.add_tools(hover)\n",
    "\n",
    "show(f)"
   ]
  },
  {
   "cell_type": "markdown",
   "metadata": {},
   "source": [
    "##### Plot components separately"
   ]
  },
  {
   "cell_type": "code",
   "execution_count": null,
   "metadata": {
    "scrolled": false
   },
   "outputs": [],
   "source": [
    "fig, ax = plt.subplots(1, n_class, figsize=(5*n_class, 5))\n",
    "\n",
    "for idx, name in enumerate(class_set) :    \n",
    "    m = y_label == name\n",
    "    \n",
    "    ax[idx].plot(X.T[d0][m], X.T[d1][m], \"o\", color = colors_dic[name])\n",
    "    ax[idx].set_title(name)\n"
   ]
  },
  {
   "cell_type": "markdown",
   "metadata": {},
   "source": [
    "---"
   ]
  },
  {
   "cell_type": "markdown",
   "metadata": {},
   "source": [
    "## Use KNN"
   ]
  },
  {
   "cell_type": "code",
   "execution_count": null,
   "metadata": {},
   "outputs": [],
   "source": [
    "from sklearn.neighbors import NearestNeighbors\n",
    "from sklearn.model_selection import train_test_split"
   ]
  },
  {
   "cell_type": "markdown",
   "metadata": {},
   "source": [
    "##### Split dataset into train and test"
   ]
  },
  {
   "cell_type": "code",
   "execution_count": null,
   "metadata": {},
   "outputs": [],
   "source": [
    "X_train, X_test, y_train, y_test = train_test_split(X, y, test_size=0.33)"
   ]
  },
  {
   "cell_type": "code",
   "execution_count": null,
   "metadata": {},
   "outputs": [],
   "source": [
    "y_train_labels = class_set[y_train.argmax(axis=1)]\n",
    "y_test_labels  = class_set[y_test.argmax(axis=1)]"
   ]
  },
  {
   "cell_type": "markdown",
   "metadata": {},
   "source": [
    "##### Fit the model"
   ]
  },
  {
   "cell_type": "code",
   "execution_count": null,
   "metadata": {},
   "outputs": [],
   "source": [
    "md_nn = NearestNeighbors(n_neighbors=5)\n",
    "\n",
    "md_nn.fit(X_train)"
   ]
  },
  {
   "cell_type": "markdown",
   "metadata": {},
   "source": [
    "##### Get position of nearest points\n",
    "\n",
    "Find k nearest train points of a test item "
   ]
  },
  {
   "cell_type": "code",
   "execution_count": null,
   "metadata": {},
   "outputs": [],
   "source": [
    "neighbors = md_nn.kneighbors(X_test, return_distance=False)"
   ]
  },
  {
   "cell_type": "code",
   "execution_count": null,
   "metadata": {},
   "outputs": [],
   "source": [
    "neighbors"
   ]
  },
  {
   "cell_type": "code",
   "execution_count": null,
   "metadata": {},
   "outputs": [],
   "source": [
    "class_set[y_train[neighbors[0]].argmax(axis=1)]"
   ]
  },
  {
   "cell_type": "markdown",
   "metadata": {},
   "source": [
    "##### Get the class"
   ]
  },
  {
   "cell_type": "code",
   "execution_count": null,
   "metadata": {},
   "outputs": [],
   "source": [
    "y_test_pred_labels = class_set[y_train[neighbors].sum(axis=1).argmax(axis=1)]"
   ]
  },
  {
   "cell_type": "code",
   "execution_count": null,
   "metadata": {},
   "outputs": [],
   "source": [
    "from sklearn.metrics import confusion_matrix, accuracy_score"
   ]
  },
  {
   "cell_type": "code",
   "execution_count": null,
   "metadata": {},
   "outputs": [],
   "source": [
    "import itertools\n",
    "def plot_confusion_matrix(cm, classes,\n",
    "                          normalize=False,\n",
    "                          title='Confusion matrix',\n",
    "                          cmap=plt.cm.Blues):\n",
    "    \"\"\"\n",
    "    This function prints and plots the confusion matrix.\n",
    "    Normalization can be applied by setting `normalize=True`.\n",
    "    \"\"\"\n",
    "    if normalize:\n",
    "        cm = cm.astype('float') / cm.sum(axis=1)[:, np.newaxis]\n",
    "        print(\"Normalized confusion matrix\")\n",
    "    else:\n",
    "        print('Confusion matrix, without normalization')\n",
    "        \n",
    "    fig, ax = plt.subplots(figsize=(10,10))\n",
    "    plt.imshow(cm, interpolation='nearest', cmap=cmap)\n",
    "    plt.title(title)\n",
    "    plt.colorbar()\n",
    "    tick_marks = np.arange(len(classes))\n",
    "    plt.xticks(tick_marks, classes, rotation=45)\n",
    "    plt.yticks(tick_marks, classes)\n",
    "\n",
    "    fmt = '.2f' if normalize else 'd'\n",
    "    thresh = cm.max() / 2.\n",
    "    for i, j in itertools.product(range(cm.shape[0]), range(cm.shape[1])):\n",
    "        plt.text(j, i, format(cm[i, j], fmt),\n",
    "                 horizontalalignment=\"center\",\n",
    "                 color=\"white\" if cm[i, j] > thresh else \"black\")\n",
    "\n",
    "    plt.tight_layout()\n",
    "    plt.ylabel('True label')\n",
    "    plt.xlabel('Predicted label')\n"
   ]
  },
  {
   "cell_type": "code",
   "execution_count": null,
   "metadata": {},
   "outputs": [],
   "source": [
    "# score\n",
    "print(accuracy_score(y_test_labels, y_test_pred_labels))\n",
    "\n",
    "cm = confusion_matrix(y_test_labels, y_test_pred_labels)\n",
    "plot_confusion_matrix(cm, class_set);"
   ]
  },
  {
   "cell_type": "markdown",
   "metadata": {},
   "source": [
    "#### Compare to linear regression"
   ]
  },
  {
   "cell_type": "code",
   "execution_count": null,
   "metadata": {},
   "outputs": [],
   "source": [
    "from sklearn.linear_model import LinearRegression"
   ]
  },
  {
   "cell_type": "code",
   "execution_count": null,
   "metadata": {},
   "outputs": [],
   "source": [
    "def linear_scoring(X_train, X_test, y_train, y_test):\n",
    "    md_lin = LinearRegression()\n",
    "    md_lin.fit(X_train, y_train)\n",
    "    return accuracy_score(md_lin.predict(X_test).argmax(axis=1), y_test.argmax(axis=1))"
   ]
  },
  {
   "cell_type": "code",
   "execution_count": null,
   "metadata": {},
   "outputs": [],
   "source": [
    "def knn_scoring(X_train, X_test, y_train, y_test, k=5):\n",
    "    md_nn = NearestNeighbors(n_neighbors=k)\n",
    "    md_nn.fit(X_train)\n",
    "    neighbors = md_nn.kneighbors(X_test, return_distance=False)\n",
    "    y_test_pred = y_train[neighbors].sum(axis=1).argmax(axis=1)\n",
    "    y_test_max = y_test.argmax(axis=1)\n",
    "    return (accuracy_score(y_test_pred, y_test_max))"
   ]
  },
  {
   "cell_type": "markdown",
   "metadata": {},
   "source": [
    "### Compare results\n",
    "\n",
    "Test against linear regression"
   ]
  },
  {
   "cell_type": "code",
   "execution_count": null,
   "metadata": {},
   "outputs": [],
   "source": [
    "knn_scoring(X_train, X_test, y_train, y_test, k=1)"
   ]
  },
  {
   "cell_type": "code",
   "execution_count": null,
   "metadata": {},
   "outputs": [],
   "source": [
    "linear_scoring(X_train, X_test, y_train, y_test)"
   ]
  },
  {
   "cell_type": "markdown",
   "metadata": {},
   "source": [
    "---"
   ]
  },
  {
   "cell_type": "code",
   "execution_count": null,
   "metadata": {},
   "outputs": [],
   "source": [
    "X_train, X_test, y_train, y_test = train_test_split(X, y, test_size=0.33)"
   ]
  },
  {
   "cell_type": "code",
   "execution_count": null,
   "metadata": {},
   "outputs": [],
   "source": [
    "knn_score = []\n",
    "Nlook = []\n",
    "\n",
    "y_test_labels = labels[y_test.argmax(axis=1)]\n",
    "\n",
    "for i in range(1, 50):\n",
    "    sc = knn_scoring(X_train, X_test, y_train, y_test, k=i)\n",
    "    knn_score.append(sc)\n",
    "    Nlook.append(i)\n",
    "\n",
    "fig, ax = plt.subplots(figsize=(10, 5))\n",
    "plt.plot(Nlook, knn_score)\n",
    "sc0 =  linear_scoring(X_train, X_test, y_train, y_test)\n",
    "ax.plot(Nlook, np.ones(len(Nlook))*sc0)"
   ]
  },
  {
   "cell_type": "markdown",
   "metadata": {},
   "source": [
    "#### Testing on a smaller subset"
   ]
  },
  {
   "cell_type": "code",
   "execution_count": null,
   "metadata": {},
   "outputs": [],
   "source": [
    "ncols = 10\n",
    "\n",
    "index = np.random.choice(np.arange(X.shape[1]), ncols)\n",
    "index"
   ]
  },
  {
   "cell_type": "code",
   "execution_count": null,
   "metadata": {},
   "outputs": [],
   "source": [
    "X_train, X_test, y_train, y_test = train_test_split(X[:, index], y, test_size=0.33)"
   ]
  },
  {
   "cell_type": "code",
   "execution_count": null,
   "metadata": {},
   "outputs": [],
   "source": [
    "knn_score = []\n",
    "Nlook = []\n",
    "\n",
    "y_test_labels = labels[y_test.argmax(axis=1)]\n",
    "\n",
    "for i in range(1, 40):\n",
    "    sc = knn_scoring(X_train, X_test, y_train, y_test, k=i)\n",
    "    knn_score.append(sc)\n",
    "    Nlook.append(i)\n",
    "\n",
    "fig, ax = plt.subplots(figsize=(10, 5))\n",
    "plt.plot(Nlook, knn_score)\n",
    "sc0 =  linear_scoring(X_train, X_test, y_train, y_test)\n",
    "ax.plot(Nlook, np.ones(len(Nlook))*sc0)"
   ]
  },
  {
   "cell_type": "markdown",
   "metadata": {},
   "source": [
    "---"
   ]
  },
  {
   "cell_type": "markdown",
   "metadata": {},
   "source": [
    "### Distance weighting\n",
    "\n",
    "\n",
    "Instead of tuning $k$, you can weight the neighbors according to the distance.\n",
    "\n",
    "So you don't care how many neighbors you need (but you have to carefully choose the distance"
   ]
  },
  {
   "cell_type": "code",
   "execution_count": null,
   "metadata": {},
   "outputs": [],
   "source": [
    "ncols = 10\n",
    "\n",
    "index = np.random.choice(np.arange(X.shape[1]), ncols)\n",
    "index"
   ]
  },
  {
   "cell_type": "code",
   "execution_count": null,
   "metadata": {},
   "outputs": [],
   "source": [
    "X_train, X_test, y_train, y_test = train_test_split(X[:,index], y, test_size=0.33)"
   ]
  },
  {
   "cell_type": "code",
   "execution_count": null,
   "metadata": {},
   "outputs": [],
   "source": [
    "Score = []\n",
    "Nlook = []\n",
    "\n",
    "for i in range(1, 20):\n",
    "    \n",
    "    md_nn = NearestNeighbors(n_neighbors=i)\n",
    "    md_nn.fit(X_train)\n",
    "    y_test_labels = labels[y_test.argmax(axis=1)]\n",
    "\n",
    "    dist, neighbors = md_nn.kneighbors(X_test)\n",
    "    \n",
    "    # Gaussian distance\n",
    "    std = 1\n",
    "    \n",
    "    arr = dist\n",
    "    Arr = np.exp(- (arr/std)**2)\n",
    "    Arr = Arr / Arr.sum()\n",
    "\n",
    "    y_test_pred = (y_train[neighbors].T * Arr.T).mean(axis=1).argmax(axis=0)\n",
    "    \n",
    "    sc = accuracy_score(y_test_pred, y_test.argmax(axis=1))\n",
    "    Score.append(sc)\n",
    "    Nlook.append(i)\n",
    "\n",
    "fig, ax = plt.subplots(figsize=(10, 5))\n",
    "sc0 =  linear_scoring(X_train, X_test, y_train, y_test)\n",
    "\n",
    "ax.plot(Nlook, Score)\n",
    "ax.plot(Nlook, np.ones(len(Nlook))*sc0)"
   ]
  },
  {
   "cell_type": "code",
   "execution_count": null,
   "metadata": {},
   "outputs": [],
   "source": []
  },
  {
   "cell_type": "code",
   "execution_count": null,
   "metadata": {},
   "outputs": [],
   "source": []
  },
  {
   "cell_type": "code",
   "execution_count": null,
   "metadata": {},
   "outputs": [],
   "source": []
  },
  {
   "cell_type": "code",
   "execution_count": null,
   "metadata": {},
   "outputs": [],
   "source": []
  },
  {
   "cell_type": "code",
   "execution_count": null,
   "metadata": {},
   "outputs": [],
   "source": []
  },
  {
   "cell_type": "code",
   "execution_count": null,
   "metadata": {},
   "outputs": [],
   "source": []
  },
  {
   "cell_type": "markdown",
   "metadata": {},
   "source": [
    "# Not safe"
   ]
  },
  {
   "cell_type": "code",
   "execution_count": null,
   "metadata": {},
   "outputs": [],
   "source": [
    "y"
   ]
  },
  {
   "cell_type": "code",
   "execution_count": null,
   "metadata": {},
   "outputs": [],
   "source": [
    "# Keep only columns with non nan values\n",
    "X = data[numeric_no_miss].values\n",
    "X = X/ X.std(axis=0)\n",
    "y = pd_Y.values"
   ]
  },
  {
   "cell_type": "code",
   "execution_count": null,
   "metadata": {},
   "outputs": [],
   "source": [
    "X_train, X_test, y_train, y_test = train_test_split(X, y, test_size=0.66)"
   ]
  },
  {
   "cell_type": "code",
   "execution_count": null,
   "metadata": {},
   "outputs": [],
   "source": [
    "Score = []\n",
    "Nlook = []\n",
    "\n",
    "for i in range(2, 20):\n",
    "    \n",
    "    md_nn = NearestNeighbors(n_neighbors=i)\n",
    "    md_nn.fit(X_train)\n",
    "    y_test_labels = labels[y_test.argmax(axis=1)]\n",
    "\n",
    "    dist, neigbors = md_nn.kneighbors(X_test)\n",
    "    #std = md_nn.kneighbors(X_train)[0][:, 1:].std()\n",
    "    std = 1\n",
    "    \n",
    "    # Calculate distance\n",
    "    # TODO: try your own\n",
    "    arr = dist\n",
    "    Arr = np.exp(- (arr/std)**2)\n",
    "    Arr = Arr / Arr.sum()\n",
    "\n",
    "    y_test_pred_labels = labels[(y_train[neigbors].T * Arr.T).sum(axis=1).argmax(axis=0)]\n",
    "    \n",
    "    sc = accuracy_score(y_test_labels, y_test_pred_labels)\n",
    "    Score.append(sc)\n",
    "    Nlook.append(i)\n",
    "    \n",
    "plt.plot(Nlook, Score, \"o\")"
   ]
  },
  {
   "cell_type": "markdown",
   "metadata": {},
   "source": [
    "---"
   ]
  },
  {
   "cell_type": "markdown",
   "metadata": {},
   "source": [
    "## Regression of KNN"
   ]
  },
  {
   "cell_type": "markdown",
   "metadata": {},
   "source": [
    "## Try to reconstruct the dataset\n",
    "\n",
    "We have $1080$ entries, with $552$ which are complete.\n",
    "\n",
    "We can try to predict the rest"
   ]
  },
  {
   "cell_type": "code",
   "execution_count": null,
   "metadata": {},
   "outputs": [],
   "source": [
    "print(\"Total dataset:\")\n",
    "print(data.shape)\n",
    "print(\"Dataset without entries with missing values:\")\n",
    "print(data.dropna().shape)\n",
    "print(\"Dataset without columns with missing values:\")\n",
    "print(data.T.dropna().T.shape)"
   ]
  },
  {
   "cell_type": "code",
   "execution_count": null,
   "metadata": {},
   "outputs": [],
   "source": [
    "X_train_limited = data[numeric_no_miss].loc[index_comlete].values\n",
    "X_train = data[numeric_columns].loc[index_comlete].values\n",
    "y_train = pd.get_dummies(data.loc[index_comlete][\"class\"]).values"
   ]
  },
  {
   "cell_type": "code",
   "execution_count": null,
   "metadata": {},
   "outputs": [],
   "source": [
    "X_test_limited = data[numeric_no_miss].loc[index_missing].values\n",
    "X_test = data[numeric_columns].loc[index_missing].values\n",
    "y_test = pd.get_dummies(data.loc[index_missing][\"class\"]).values"
   ]
  },
  {
   "cell_type": "markdown",
   "metadata": {},
   "source": [
    "##### Normalize (look with / without)"
   ]
  },
  {
   "cell_type": "code",
   "execution_count": null,
   "metadata": {},
   "outputs": [],
   "source": [
    "std_1 = data[numeric_no_miss].std().values\n",
    "std_2 = data[numeric_columns].std().values\n",
    "\n",
    "X_test_limited  = X_test_limited / std_1\n",
    "X_train_limited = X_train_limited / std_1\n",
    "\n",
    "X_test  = X_test / std_2\n",
    "X_train = X_train / std_2"
   ]
  },
  {
   "cell_type": "markdown",
   "metadata": {},
   "source": [
    "#### Create the network"
   ]
  },
  {
   "cell_type": "code",
   "execution_count": null,
   "metadata": {},
   "outputs": [],
   "source": [
    "md = NearestNeighbors(20)\n",
    "md.fit(X_train_limited)\n",
    "\n",
    "distance, neighbors = md.kneighbors(X_test_limited)"
   ]
  },
  {
   "cell_type": "code",
   "execution_count": null,
   "metadata": {},
   "outputs": [],
   "source": [
    "std = 1"
   ]
  },
  {
   "cell_type": "code",
   "execution_count": null,
   "metadata": {},
   "outputs": [],
   "source": [
    "arr = np.exp(-(distance**2)/std)\n",
    "Z   = np.sum(arr, axis=1)\n",
    "arr = (arr.T/Z).T"
   ]
  },
  {
   "cell_type": "code",
   "execution_count": null,
   "metadata": {},
   "outputs": [],
   "source": [
    "X_test_pred = np.zeros((arr.shape[0], X_train.shape[1]))\n",
    "\n",
    "for (i, x,y) in zip(np.arange(len(X_pred)), arr, X_train[neighbors]):\n",
    "    X_test_pred[i] = (y.T * x).sum(axis=1)    "
   ]
  },
  {
   "cell_type": "markdown",
   "metadata": {},
   "source": [
    "##### Look at results"
   ]
  },
  {
   "cell_type": "code",
   "execution_count": null,
   "metadata": {},
   "outputs": [],
   "source": [
    "item = 230\n",
    "\n",
    "fig, ax = plt.subplots(figsize=(15,5))\n",
    "plt.plot(X_test[item])\n",
    "plt.plot(X_test_pred[item])"
   ]
  },
  {
   "cell_type": "markdown",
   "metadata": {},
   "source": [
    "##### Look at distribution difference"
   ]
  },
  {
   "cell_type": "code",
   "execution_count": null,
   "metadata": {},
   "outputs": [],
   "source": [
    "d0 = 7\n",
    "d1 = 6\n",
    "\n",
    "plt.plot(X_train.T[d0], X_train.T[d1], \"o\")\n",
    "plt.plot(X_test.T[d0], X_test.T[d1], \"o\")\n"
   ]
  },
  {
   "cell_type": "code",
   "execution_count": null,
   "metadata": {},
   "outputs": [],
   "source": []
  },
  {
   "cell_type": "code",
   "execution_count": null,
   "metadata": {},
   "outputs": [],
   "source": []
  },
  {
   "cell_type": "code",
   "execution_count": null,
   "metadata": {},
   "outputs": [],
   "source": []
  },
  {
   "cell_type": "code",
   "execution_count": null,
   "metadata": {},
   "outputs": [],
   "source": []
  }
 ],
 "metadata": {
  "kernelspec": {
   "display_name": "Python 3",
   "language": "python",
   "name": "python3"
  },
  "language_info": {
   "codemirror_mode": {
    "name": "ipython",
    "version": 3
   },
   "file_extension": ".py",
   "mimetype": "text/x-python",
   "name": "python",
   "nbconvert_exporter": "python",
   "pygments_lexer": "ipython3",
   "version": "3.6.3"
  }
 },
 "nbformat": 4,
 "nbformat_minor": 2
}
